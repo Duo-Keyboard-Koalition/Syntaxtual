{
 "cells": [
  {
   "cell_type": "code",
   "execution_count": 8,
   "metadata": {},
   "outputs": [],
   "source": [
    "from transformers import pipeline\n",
    "import ast\n",
    "import re\n",
    "\n",
    "def summarize_python_function(function_string: str) -> dict:\n",
    "  \"\"\"\n",
    "  Analyzes a Python function string and returns a summary using a small language model.\n",
    "  \n",
    "  Args:\n",
    "    function_string (str): String containing a Python function definition\n",
    "    \n",
    "  Returns:\n",
    "    dict: Summary information including function name, parameters, docstring,\n",
    "      and an AI-generated summary of functionality\n",
    "  \"\"\"\n",
    "  # Initialize the summarization model\n",
    "  summarizer = pipeline(\n",
    "    model=\"Qwen/Qwen2.5-0.5B\",\n",
    "    device=-1  # CPU\n",
    "  )\n",
    "  \n",
    "  # Clean the code for better summarization\n",
    "  clean_code = re.sub(r'\"\"\".*?\"\"\"', '', function_string, flags=re.DOTALL)  # Remove docstring\n",
    "  clean_code = re.sub(r'#.*$', '', clean_code, flags=re.MULTILINE)  # Remove comments\n",
    "  prompt = f\"You are given a function. Summarize it in one line. The function {clean_code} can be summarized as:\"\n",
    "  # Generate AI summary\n",
    "  summary = summarizer(\n",
    "    prompt,\n",
    "  )[0]\n",
    "\n",
    "  summary = summary[\"generated_text\"].split(\"can be summarized as: \")[1]\n",
    "  \n",
    "  return {\n",
    "    'summary': summary\n",
    "  }   "
   ]
  },
  {
   "cell_type": "code",
   "execution_count": 10,
   "metadata": {},
   "outputs": [
    {
     "name": "stdout",
     "output_type": "stream",
     "text": [
      "Generated purpose: Transform raw user data into processed records.\n"
     ]
    }
   ],
   "source": [
    "code = \"\"\"\n",
    "def process_user_data(user_list: List[Dict], batch_size: int = 100) -> List[Dict]:\n",
    "  '''Transform raw user data into processed records.'''\n",
    "  results = []\n",
    "  for i in range(0, len(user_list), batch_size):\n",
    "    batch = user_list[i:i + batch_size]\n",
    "    try:\n",
    "      processed = [transform_user(user) for user in batch]\n",
    "      results.extend(processed)\n",
    "    except ValidationError:\n",
    "      continue\n",
    "  return results\n",
    "  \"\"\"\n",
    "  \n",
    "  \n",
    "purpose = summarize_python_function(code)\n",
    "print(f\"Generated purpose: {purpose[\"summary\"]}\")"
   ]
  },
  {
   "cell_type": "code",
   "execution_count": null,
   "metadata": {},
   "outputs": [],
   "source": []
  }
 ],
 "metadata": {
  "kernelspec": {
   "display_name": ".venv",
   "language": "python",
   "name": "python3"
  },
  "language_info": {
   "codemirror_mode": {
    "name": "ipython",
    "version": 3
   },
   "file_extension": ".py",
   "mimetype": "text/x-python",
   "name": "python",
   "nbconvert_exporter": "python",
   "pygments_lexer": "ipython3",
   "version": "3.12.5"
  }
 },
 "nbformat": 4,
 "nbformat_minor": 2
}
